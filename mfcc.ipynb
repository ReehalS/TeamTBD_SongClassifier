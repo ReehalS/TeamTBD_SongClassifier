{
 "cells": [
  {
   "cell_type": "code",
   "execution_count": null,
   "metadata": {},
   "outputs": [],
   "source": [
    "import os\n",
    "import librosa\n",
    "import pandas as pd\n",
    "import numpy as np\n",
    "\n",
    "filename = 'Dataset/MP3-Example/Blues/Blues-TRACOHF128F1498509.mp3' \n",
    "track_id = os.path.splitext(os.path.basename(filename))[0].split('-')[1]\n",
    "y, sr = librosa.load(filename, sr=None)\n",
    "\n",
    "mfccs = librosa.feature.mfcc(y=y, sr=sr, n_mfcc=20)\n",
    "mfcc_df = pd.DataFrame(mfccs.T)\n",
    "mfcc_df"
   ]
  },
  {
   "cell_type": "code",
   "execution_count": 21,
   "metadata": {},
   "outputs": [],
   "source": [
    "def extract_mfcc_statistics(filename, n_mfcc=20):\n",
    "    # Extracting track_id from filename\n",
    "    track_id = os.path.splitext(os.path.basename(filename))[0].split('-')[1]\n",
    "    \n",
    "    # Load and trim audio\n",
    "    y, sr = librosa.load(filename)\n",
    "    y, _ = librosa.effects.trim(y)\n",
    "    \n",
    "    # Extract MFCCs\n",
    "    mfccs = librosa.feature.mfcc(y=y, sr=sr, n_mfcc=n_mfcc)\n",
    "    \n",
    "    # Calculate mean and variance for each MFCC coefficient\n",
    "    mfcc_means = np.mean(mfccs, axis=1)\n",
    "    mfcc_variances = np.var(mfccs, axis=1)\n",
    "    \n",
    "    # Interleave means and variances into a single list\n",
    "    mfcc_statistics = []\n",
    "    for mean, var in zip(mfcc_means, mfcc_variances):\n",
    "        mfcc_statistics.append(mean)\n",
    "        mfcc_statistics.append(var)\n",
    "    \n",
    "    # Return the results as a list starting with track_id, followed by MFCC statistics\n",
    "    return [track_id] + mfcc_statistics"
   ]
  },
  {
   "cell_type": "code",
   "execution_count": 23,
   "metadata": {},
   "outputs": [
    {
     "name": "stdout",
     "output_type": "stream",
     "text": [
      "['TRACOHF128F1498509', np.float32(-60.761333), np.float32(3355.6204), np.float32(90.040215), np.float32(1014.3257), np.float32(0.95683575), np.float32(444.4996), np.float32(34.935497), np.float32(280.1823), np.float32(-1.8735155), np.float32(143.03445), np.float32(13.213247), np.float32(118.12219), np.float32(-6.5449996), np.float32(76.77843), np.float32(4.970671), np.float32(64.47031), np.float32(-6.265268), np.float32(63.51485), np.float32(1.0352648), np.float32(57.161385), np.float32(-2.1913946), np.float32(43.295017), np.float32(1.8789669), np.float32(51.368477), np.float32(-6.624016), np.float32(43.10131), np.float32(1.6662734), np.float32(41.26377), np.float32(-3.5947776), np.float32(36.909176), np.float32(1.1640769), np.float32(47.71634), np.float32(-3.6154025), np.float32(39.46853), np.float32(-0.8174718), np.float32(38.786583), np.float32(-4.3365574), np.float32(39.130108), np.float32(0.19613357), np.float32(49.942364)]\n"
     ]
    }
   ],
   "source": [
    "info = extract_mfcc_statistics(filename)\n",
    "print(info)"
   ]
  },
  {
   "cell_type": "code",
   "execution_count": 24,
   "metadata": {},
   "outputs": [],
   "source": [
    "data = []\n",
    "for genre, _, files in os.walk('Dataset/MP3-Example/'):\n",
    "    for filename in files:\n",
    "        if filename.endswith(\".mp3\"):\n",
    "            filepath = os.path.join(genre, filename)\n",
    "            info = extract_mfcc_statistics(filepath)\n",
    "            data.append(info)"
   ]
  },
  {
   "cell_type": "code",
   "execution_count": 25,
   "metadata": {},
   "outputs": [],
   "source": [
    "df = pd.DataFrame(data, columns=['track_id', 'mfcc1 mean', 'mfcc1 variance', 'mfcc2 mean', 'mfcc2 variance', 'mfcc3 mean', 'mfcc3 variance', 'mfcc4 mean', 'mfcc4 variance','mfcc5 mean', 'mfcc5 variance','mfcc6 mean', 'mfcc6 variance','mfcc7 mean', 'mfcc7 variance','mfcc8 mean', 'mfcc8 variance','mfcc9 mean', 'mfcc9 variance','mfcc10 mean', 'mfcc10 variance','mfcc11 mean', 'mfcc11 variance','mfcc12 mean', 'mfcc12 variance','mfcc13 mean', 'mfcc13 variance','mfcc14 mean', 'mfcc14 variance','mfcc15 mean', 'mfcc15 variance','mfcc16 mean', 'mfcc16 variance','mfcc17 mean', 'mfcc17 variance','mfcc18 mean', 'mfcc18 variance','mfcc19 mean', 'mfcc19 variance','mfcc20 mean', 'mfcc20 variance',])\n",
    "df.to_csv('GeneratedData/mfccvalues.csv', index=False)"
   ]
  }
 ],
 "metadata": {
  "kernelspec": {
   "display_name": "Python 3",
   "language": "python",
   "name": "python3"
  },
  "language_info": {
   "codemirror_mode": {
    "name": "ipython",
    "version": 3
   },
   "file_extension": ".py",
   "mimetype": "text/x-python",
   "name": "python",
   "nbconvert_exporter": "python",
   "pygments_lexer": "ipython3",
   "version": "3.12.1"
  }
 },
 "nbformat": 4,
 "nbformat_minor": 2
}
