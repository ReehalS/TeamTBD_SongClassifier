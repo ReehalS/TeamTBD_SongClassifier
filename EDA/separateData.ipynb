{
 "cells": [
  {
   "cell_type": "code",
   "execution_count": 1,
   "metadata": {},
   "outputs": [
    {
     "name": "stdout",
     "output_type": "stream",
     "text": [
      "Saved classical data to classical_dataset.csv\n",
      "Saved disco data to disco_dataset.csv\n",
      "Saved hiphop data to hiphop_dataset.csv\n"
     ]
    }
   ],
   "source": [
    "import pandas as pd\n",
    "\n",
    "# Load the dataset\n",
    "data = pd.read_csv('../GTZAN_Dataset/features_3_sec.csv')\n",
    "\n",
    "# Define the labels we want to filter by\n",
    "genres_to_extract = [\"classical\", \"disco\", \"hiphop\"]\n",
    "\n",
    "# Iterate over each genre, filter the data, and save it to a separate CSV file\n",
    "for genre in genres_to_extract:\n",
    "    # Filter rows where the 'label' column matches the genre\n",
    "    genre_data = data[data['label'] == genre]\n",
    "    \n",
    "    # Define the output filename based on the genre\n",
    "    output_filename = f'{genre}_dataset.csv'\n",
    "    \n",
    "    # Save the filtered data to a new CSV file\n",
    "    genre_data.to_csv(output_filename, index=False)\n",
    "    \n",
    "    print(f\"Saved {genre} data to {output_filename}\")\n"
   ]
  }
 ],
 "metadata": {
  "kernelspec": {
   "display_name": "SongClassifier",
   "language": "python",
   "name": "python3"
  },
  "language_info": {
   "codemirror_mode": {
    "name": "ipython",
    "version": 3
   },
   "file_extension": ".py",
   "mimetype": "text/x-python",
   "name": "python",
   "nbconvert_exporter": "python",
   "pygments_lexer": "ipython3",
   "version": "3.12.7"
  }
 },
 "nbformat": 4,
 "nbformat_minor": 2
}
