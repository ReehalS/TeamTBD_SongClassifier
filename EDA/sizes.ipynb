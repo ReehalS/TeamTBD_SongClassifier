{
 "cells": [
  {
   "cell_type": "code",
   "execution_count": 1,
   "metadata": {},
   "outputs": [
    {
     "name": "stdout",
     "output_type": "stream",
     "text": [
      "New Age: 1000 files\n",
      "Pop: 1002 files\n",
      "Metal: 1000 files\n",
      "Blues: 1000 files\n",
      "Latin: 1000 files\n",
      "World: 1000 files\n",
      "RnB: 1000 files\n",
      "Reggae: 1000 files\n",
      "Electronic: 1005 files\n",
      "Rock: 1000 files\n",
      "Folk: 1004 files\n",
      "Punk: 1001 files\n",
      "Country: 1000 files\n",
      "Rap: 1000 files\n",
      "Jazz: 1000 files\n"
     ]
    }
   ],
   "source": [
    "import os\n",
    "\n",
    "# Set the path to the main folder\n",
    "main_folder = \"./Dataset/MP3-3seconds\"\n",
    "\n",
    "# Dictionary to store the count of files in each subfolder\n",
    "file_counts = {}\n",
    "\n",
    "# Traverse each subfolder and count the files\n",
    "for subfolder in os.listdir(main_folder):\n",
    "    subfolder_path = os.path.join(main_folder, subfolder)\n",
    "    if os.path.isdir(subfolder_path):\n",
    "        # Count the files in the subfolder\n",
    "        num_files = len([f for f in os.listdir(subfolder_path) if os.path.isfile(os.path.join(subfolder_path, f))])\n",
    "        file_counts[subfolder] = num_files\n",
    "\n",
    "# Print the counts for each subfolder\n",
    "for subfolder, count in file_counts.items():\n",
    "    print(f\"{subfolder}: {count} files\")\n"
   ]
  }
 ],
 "metadata": {
  "kernelspec": {
   "display_name": "SongClassifier",
   "language": "python",
   "name": "python3"
  },
  "language_info": {
   "codemirror_mode": {
    "name": "ipython",
    "version": 3
   },
   "file_extension": ".py",
   "mimetype": "text/x-python",
   "name": "python",
   "nbconvert_exporter": "python",
   "pygments_lexer": "ipython3",
   "version": "3.12.7"
  }
 },
 "nbformat": 4,
 "nbformat_minor": 2
}
