{
 "cells": [
  {
   "cell_type": "code",
   "execution_count": 2,
   "metadata": {},
   "outputs": [
    {
     "name": "stdout",
     "output_type": "stream",
     "text": [
      "['TRACOHF128F1498509', np.float32(-1.5131889e-06), np.float32(0.011209094), np.float32(1.5516527e-05), np.float32(0.010306817), np.float64(184.5703125)]\n"
     ]
    }
   ],
   "source": [
    "# Harmony, Perceptr, Tempo for a file\n",
    "\n",
    "import os\n",
    "import librosa\n",
    "import pandas as pd\n",
    "import numpy as np\n",
    "\n",
    "filename = 'Dataset/MP3-Example/Blues/Blues-TRACOHF128F1498509.mp3' \n",
    "track_id = os.path.splitext(os.path.basename(filename))[0].split('-')[1]\n",
    "y, sr = librosa.load(filename)\n",
    "y, _ = librosa.effects.trim(y)\n",
    "harmony, perceptr = librosa.effects.hpss(y)\n",
    "\n",
    "# Harmony Mean and Variance\n",
    "\n",
    "harmony_mean = np.mean(harmony)\n",
    "harmony_var = np.var(harmony)\n",
    "\n",
    "## Perceptr Mean and Variance\n",
    "percussive_mean = np.mean(perceptr)\n",
    "percussive_var = np.var(perceptr)\n",
    "\n",
    "# Tempo\n",
    "\n",
    "tempo, _ = librosa.beat.beat_track(y=y, sr=sr)\n",
    "tempo = tempo[0]\n",
    "\n",
    "print([track_id, harmony_mean, harmony_var, percussive_mean, percussive_var, tempo])"
   ]
  },
  {
   "cell_type": "code",
   "execution_count": null,
   "metadata": {},
   "outputs": [],
   "source": [
    "# Function to calculate harmony (mean and variance), perceptr (mean and variance), tempo\n",
    "\n",
    "def fextracting_har_per_tempo(filename):\n",
    "\n",
    "    # Extracting track_id, then extracting audio features like harmony and perceptr after triming the audio_file\n",
    "\n",
    "    track_id = os.path.splitext(os.path.basename(filename))[0].split('-')[1]\n",
    "    y, sr = librosa.load(filename)\n",
    "    y, _ = librosa.effects.trim(y)\n",
    "    harmony, perceptr = librosa.effects.hpss(y)\n",
    "\n",
    "    # Harmony Mean and Variance\n",
    "\n",
    "    harmony_mean = np.mean(harmony)\n",
    "    harmony_var = np.var(harmony)\n",
    "\n",
    "    ## Perceptr Mean and Variance\n",
    "    percussive_mean = np.mean(perceptr)\n",
    "    percussive_var = np.var(perceptr)\n",
    "\n",
    "    # Tempo\n",
    "\n",
    "    tempo, _ = librosa.beat.beat_track(y=y, sr=sr)\n",
    "    tempo = tempo[0]\n",
    "\n",
    "    return [track_id, harmony_mean, harmony_var, percussive_mean, percussive_var, tempo]"
   ]
  },
  {
   "cell_type": "code",
   "execution_count": 5,
   "metadata": {},
   "outputs": [
    {
     "name": "stdout",
     "output_type": "stream",
     "text": [
      "['TRACOHF128F1498509', np.float32(-1.5131889e-06), np.float32(0.011209094), np.float32(1.5516527e-05), np.float32(0.010306817), np.float64(184.5703125)]\n"
     ]
    }
   ],
   "source": [
    "# Testing the one song again for validation\n",
    "\n",
    "filename = 'Dataset/MP3-Example/Blues/Blues-TRACOHF128F1498509.mp3'\n",
    "info = fextracting_har_per_tempo(filename)\n",
    "print(info)"
   ]
  },
  {
   "cell_type": "code",
   "execution_count": null,
   "metadata": {},
   "outputs": [],
   "source": [
    "# Computing harmony (mean and variance), perceptr (mean and variance), tempo for all the files now\n",
    "\n",
    "data = []\n",
    "for genre, _, files in os.walk('Dataset/MP3-Example/'):\n",
    "    for filename in files:\n",
    "        if filename.endswith(\".mp3\"):\n",
    "            filepath = os.path.join(genre, filename)\n",
    "            info = fextracting_har_per_tempo(filepath)\n",
    "            data.append(info)"
   ]
  },
  {
   "cell_type": "code",
   "execution_count": null,
   "metadata": {},
   "outputs": [],
   "source": [
    "df = pd.DataFrame(data, columns=['track_id', 'harmony_mean', 'harmony_var','percussive_mean', 'percussive_var', 'tempo'])\n",
    "df.to_csv('GeneratedData/harmony_percussive_tempo.csv', index=False)"
   ]
  }
 ],
 "metadata": {
  "kernelspec": {
   "display_name": "Python 3",
   "language": "python",
   "name": "python3"
  },
  "language_info": {
   "codemirror_mode": {
    "name": "ipython",
    "version": 3
   },
   "file_extension": ".py",
   "mimetype": "text/x-python",
   "name": "python",
   "nbconvert_exporter": "python",
   "pygments_lexer": "ipython3",
   "version": "3.12.1"
  }
 },
 "nbformat": 4,
 "nbformat_minor": 2
}
