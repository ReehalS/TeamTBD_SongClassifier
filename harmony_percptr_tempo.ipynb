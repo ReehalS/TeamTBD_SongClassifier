{
 "cells": [
  {
   "cell_type": "code",
   "execution_count": null,
   "metadata": {
    "vscode": {
     "languageId": "plaintext"
    }
   },
   "outputs": [],
   "source": [
    "# Harmony, Perceptr, Tempo for a file\n",
    "\n",
    "import os\n",
    "import librosa\n",
    "import pandas as pd\n",
    "import numpy as np\n",
    "\n",
    "filename = 'Dataset/MP3-Example/Blues/Blues-TRACOHF128F1498509.mp3' \n",
    "track_id = os.path.splitext(os.path.basename(filename))[0].split('-')[1]\n",
    "y, sr = librosa.load(filename)\n",
    "y, _ = librosa.effects.trim(y)\n",
    "harmony, perceptr = librosa.effects.hpss(y)\n",
    "\n",
    "# Harmony Mean and Variance\n",
    "\n",
    "harmony_mean = np.mean(harmony)\n",
    "harmony_var = np.var(harmony)\n",
    "\n",
    "## Perceptr Mean and Variance\n",
    "perceptr_mean = np.mean(perceptr)\n",
    "perceptr_var = np.var(perceptr)\n",
    "\n",
    "# Tempo\n",
    "\n",
    "tempo, _ = librosa.beat.beat_track(y=y, sr=sr)\n",
    "tempo = tempo[0]\n",
    "\n",
    "print([track_id, harmony_mean, harmony_var, perceptr_mean, perceptr_var, tempo])"
   ]
  },
  {
   "cell_type": "code",
   "execution_count": null,
   "metadata": {
    "vscode": {
     "languageId": "plaintext"
    }
   },
   "outputs": [],
   "source": [
    "# Function to calculate harmony (mean and variance), perceptr (mean and variance), tempo\n",
    "\n",
    "def fextracting_har_per_tempo(filename):\n",
    "\n",
    "    # Extracting track_id, then extracting audio features like harmony and perceptr after triming the audio_file\n",
    "\n",
    "    track_id = os.path.splitext(os.path.basename(filename))[0].split('-')[1]\n",
    "    y, sr = librosa.load(filename)\n",
    "    y, _ = librosa.effects.trim(y)\n",
    "    harmony, perceptr = librosa.effects.hpss(y)\n",
    "\n",
    "    # Harmony Mean and Variance\n",
    "\n",
    "    harmony_mean = np.mean(harmony)\n",
    "    harmony_var = np.var(harmony)\n",
    "\n",
    "    ## Perceptr Mean and Variance\n",
    "    perceptr_mean = np.mean(perceptr)\n",
    "    perceptr_var = np.var(perceptr)\n",
    "\n",
    "    # Tempo\n",
    "\n",
    "    tempo, _ = librosa.beat.beat_track(y=y, sr=sr)\n",
    "    tempo = tempo[0]\n",
    "\n",
    "    return [track_id, harmony_mean, harmony_var, perceptr_mean, perceptr_var, tempo]"
   ]
  },
  {
   "cell_type": "code",
   "execution_count": null,
   "metadata": {
    "vscode": {
     "languageId": "plaintext"
    }
   },
   "outputs": [],
   "source": [
    "# Testing the one song again for validation\n",
    "\n",
    "filename = 'Dataset/MP3-Example/Blues/Blues-TRACOHF128F1498509.mp3'\n",
    "info = fextracting_har_per_tempo(filename)\n",
    "print(info)"
   ]
  },
  {
   "cell_type": "code",
   "execution_count": null,
   "metadata": {
    "vscode": {
     "languageId": "plaintext"
    }
   },
   "outputs": [],
   "source": [
    "# Computing harmony (mean and variance), perceptr (mean and variance), tempo for all the files now\n",
    "\n",
    "data = []\n",
    "for genre, _, files in os.walk('Dataset/MP3-Example/'):\n",
    "    for filename in files:\n",
    "        if filename.endswith(\".mp3\"):\n",
    "            filepath = os.path.join(genre, filename)\n",
    "            info = fextracting_har_per_tempo(filepath)\n",
    "            data.append(info)"
   ]
  },
  {
   "cell_type": "code",
   "execution_count": null,
   "metadata": {
    "vscode": {
     "languageId": "plaintext"
    }
   },
   "outputs": [],
   "source": [
    "df = pd.DataFrame(data, columns=['track_id', 'harmony_mean', 'harmony_var','perceptr_mean', 'perceptr_var', 'tempo'])\n",
    "df.to_csv('GeneratedData/harmony_perceptr_tempo.csv', index=False)"
   ]
  }
 ],
 "metadata": {
  "language_info": {
   "name": "python"
  }
 },
 "nbformat": 4,
 "nbformat_minor": 2
}
