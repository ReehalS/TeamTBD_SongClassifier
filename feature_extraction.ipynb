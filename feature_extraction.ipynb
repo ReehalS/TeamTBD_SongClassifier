{
 "cells": [
  {
   "cell_type": "code",
   "execution_count": 1,
   "id": "84d6eccf-1439-42f5-8538-8c01e0ca8961",
   "metadata": {},
   "outputs": [],
   "source": [
    "import librosa\n",
    "import pandas as pd\n",
    "import os\n",
    "from ipywidgets import IntProgress\n",
    "from IPython.display import display, clear_output"
   ]
  },
  {
   "cell_type": "code",
   "execution_count": 2,
   "id": "7dd5cdc2-c675-4069-af28-1f710a921c7b",
   "metadata": {},
   "outputs": [],
   "source": [
    "# function to extract audio features\n",
    "def extract_features(file_path):\n",
    "    y, sr = librosa.load(file_path)\n",
    "    chroma_stft_mean = librosa.feature.chroma_stft(y=y, sr=sr).mean()\n",
    "    chroma_stft_var = librosa.feature.chroma_stft(y=y, sr=sr).var()\n",
    "    rms_mean = librosa.feature.rms(y=y).mean()\n",
    "    rms_var = librosa.feature.rms(y=y).var()\n",
    "    spectral_centroid_mean = librosa.feature.spectral_centroid(y=y, sr=sr).mean()\n",
    "    spectral_centroid_var = librosa.feature.spectral_centroid(y=y, sr=sr).var()\n",
    "    zcr = librosa.zero_crossings(y, pad=False)\n",
    "    rolloff = librosa.feature.spectral_rolloff(y=y, sr=sr, roll_percent=0.85)\n",
    "    return [chroma_stft_mean, chroma_stft_var, rms_mean, rms_var, spectral_centroid_mean, spectral_centroid_var]"
   ]
  },
  {
   "cell_type": "code",
   "execution_count": 3,
   "id": "ab47feea-f311-4d0f-b3f9-ebdea69bc3b8",
   "metadata": {},
   "outputs": [
    {
     "name": "stdout",
     "output_type": "stream",
     "text": [
      "[np.float32(0.3924548), np.float32(0.086044624), np.float32(0.13579641), np.float32(0.0013561117), np.float64(2052.0418230378855), np.float64(114338.99866117635)]\n"
     ]
    }
   ],
   "source": [
    "# testing 1 song\n",
    "sample_path = 'Dataset/MP3-Example/Latin/Latin-TRAFNQP128F92FAA26.mp3'\n",
    "print(extract_features(sample_path))"
   ]
  },
  {
   "cell_type": "code",
   "execution_count": 7,
   "id": "5d441d41-74b0-404c-a456-c1b4dc088603",
   "metadata": {},
   "outputs": [],
   "source": [
    "# test for all data\n",
    "data = []\n",
    "drtr = 'Dataset/MP3-Example'"
   ]
  },
  {
   "cell_type": "code",
   "execution_count": 8,
   "id": "2931e6ee-d78e-4808-b547-ee3da8e80eee",
   "metadata": {},
   "outputs": [
    {
     "data": {
      "application/vnd.jupyter.widget-view+json": {
       "model_id": "65c9911ba1dc418eb2cade340e15c401",
       "version_major": 2,
       "version_minor": 0
      },
      "text/plain": [
       "IntProgress(value=0, max=1500)"
      ]
     },
     "metadata": {},
     "output_type": "display_data"
    }
   ],
   "source": [
    "# progress bar\n",
    "total_files = sum(len(files) for _, _, files in os.walk(drtr))\n",
    "progress = IntProgress(min=0, max=total_files)\n",
    "display(progress)"
   ]
  },
  {
   "cell_type": "code",
   "execution_count": 9,
   "id": "d5dc47d1-6d13-49cd-a8a4-1afadc670b6f",
   "metadata": {},
   "outputs": [
    {
     "data": {
      "application/vnd.jupyter.widget-view+json": {
       "model_id": "65c9911ba1dc418eb2cade340e15c401",
       "version_major": 2,
       "version_minor": 0
      },
      "text/plain": [
       "IntProgress(value=1500, max=1500)"
      ]
     },
     "metadata": {},
     "output_type": "display_data"
    }
   ],
   "source": [
    "\n",
    "# accessing through all subdirectories\n",
    "for genre_folder, subdirs, files in os.walk(drtr):\n",
    "    for file_name in files:\n",
    "        if file_name.endswith(\".mp3\"):\n",
    "            # Get full path to the MP3 files\n",
    "            file_path = os.path.join(genre_folder, file_name)\n",
    "            # Extract track_id from the file name\n",
    "            track_id = file_name.split('-')[1].split('.')[0]  # following 'genre-track_id.mp3' format\n",
    "            # Extract features\n",
    "            features = extract_features(file_path)\n",
    "            # Append track_id and features to data\n",
    "            data.append([track_id] + features)\n",
    "\n",
    "            # keep track of progress\n",
    "            progress.value += 1\n",
    "            clear_output(wait=True)\n",
    "            display(progress)"
   ]
  },
  {
   "cell_type": "code",
   "execution_count": 10,
   "id": "8055a868-d2da-4f2d-b36d-1ecd693b6eff",
   "metadata": {},
   "outputs": [],
   "source": [
    "# save in CSV\n",
    "df = pd.DataFrame(data, columns=['track_id', 'chroma_stft_mean', 'chroma_stft_var','rms_mean', 'rms_var', 'spectral_centroid_mean','spectral_centroid_var' ])\n",
    "df.to_csv('GeneratedData/chroma_rms_spectral_centroid.csv', index=False)"
   ]
  },
  {
   "cell_type": "code",
   "execution_count": 11,
   "id": "79bca88c-1228-49c9-bc36-27a3b4bf8b7d",
   "metadata": {},
   "outputs": [
    {
     "name": "stdout",
     "output_type": "stream",
     "text": [
      "Feature extraction complete. Data saved to 'GeneratedData/chroma_rms_spectral_centroid.csv'.\n"
     ]
    }
   ],
   "source": [
    "print(\"Feature extraction complete. Data saved to 'GeneratedData/chroma_rms_spectral_centroid.csv'.\")"
   ]
  },
  {
   "cell_type": "code",
   "execution_count": null,
   "id": "fb5a863b-7b59-4388-b6ba-216669ea09c8",
   "metadata": {},
   "outputs": [],
   "source": []
  }
 ],
 "metadata": {
  "kernelspec": {
   "display_name": "Python 3 (ipykernel)",
   "language": "python",
   "name": "python3"
  },
  "language_info": {
   "codemirror_mode": {
    "name": "ipython",
    "version": 3
   },
   "file_extension": ".py",
   "mimetype": "text/x-python",
   "name": "python",
   "nbconvert_exporter": "python",
   "pygments_lexer": "ipython3",
   "version": "3.11.5"
  }
 },
 "nbformat": 4,
 "nbformat_minor": 5
}
